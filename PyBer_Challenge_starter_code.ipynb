{
 "cells": [
  {
   "cell_type": "markdown",
   "metadata": {},
   "source": [
    "# Pyber Challenge"
   ]
  },
  {
   "cell_type": "markdown",
   "metadata": {},
   "source": [
    "### 4.3 Loading and Reading CSV files"
   ]
  },
  {
   "cell_type": "code",
   "execution_count": 1,
   "metadata": {},
   "outputs": [],
   "source": [
    "# Add Matplotlib inline magic command\n",
    "%matplotlib inline\n",
    "# Dependencies and Setup\n",
    "import matplotlib.pyplot as plt\n",
    "import pandas as pd\n",
    "import numpy as np\n",
    "\n",
    "# Files to load\n",
    "city_data_to_load = \"Resources/city_data.csv\"\n",
    "ride_data_to_load = \"Resources/ride_data.csv\"\n",
    "\n",
    "# Read the city data file and store it in a pandas DataFrame.\n",
    "city_data_df = pd.read_csv(city_data_to_load)\n",
    "# Read the ride data file and store it in a pandas DataFrame.\n",
    "ride_data_df = pd.read_csv(ride_data_to_load)"
   ]
  },
  {
   "cell_type": "markdown",
   "metadata": {},
   "source": [
    "### Merge the DataFrames"
   ]
  },
  {
   "cell_type": "code",
   "execution_count": 2,
   "metadata": {
    "scrolled": true
   },
   "outputs": [
    {
     "data": {
      "text/html": [
       "<div>\n",
       "<style scoped>\n",
       "    .dataframe tbody tr th:only-of-type {\n",
       "        vertical-align: middle;\n",
       "    }\n",
       "\n",
       "    .dataframe tbody tr th {\n",
       "        vertical-align: top;\n",
       "    }\n",
       "\n",
       "    .dataframe thead th {\n",
       "        text-align: right;\n",
       "    }\n",
       "</style>\n",
       "<table border=\"1\" class=\"dataframe\">\n",
       "  <thead>\n",
       "    <tr style=\"text-align: right;\">\n",
       "      <th></th>\n",
       "      <th>city</th>\n",
       "      <th>date</th>\n",
       "      <th>fare</th>\n",
       "      <th>ride_id</th>\n",
       "      <th>driver_count</th>\n",
       "      <th>type</th>\n",
       "    </tr>\n",
       "  </thead>\n",
       "  <tbody>\n",
       "    <tr>\n",
       "      <th>0</th>\n",
       "      <td>Lake Jonathanshire</td>\n",
       "      <td>2019-01-14 10:14:22</td>\n",
       "      <td>13.83</td>\n",
       "      <td>5739410935873</td>\n",
       "      <td>5</td>\n",
       "      <td>Urban</td>\n",
       "    </tr>\n",
       "    <tr>\n",
       "      <th>1</th>\n",
       "      <td>South Michelleport</td>\n",
       "      <td>2019-03-04 18:24:09</td>\n",
       "      <td>30.24</td>\n",
       "      <td>2343912425577</td>\n",
       "      <td>72</td>\n",
       "      <td>Urban</td>\n",
       "    </tr>\n",
       "    <tr>\n",
       "      <th>2</th>\n",
       "      <td>Port Samanthamouth</td>\n",
       "      <td>2019-02-24 04:29:00</td>\n",
       "      <td>33.44</td>\n",
       "      <td>2005065760003</td>\n",
       "      <td>57</td>\n",
       "      <td>Urban</td>\n",
       "    </tr>\n",
       "    <tr>\n",
       "      <th>3</th>\n",
       "      <td>Rodneyfort</td>\n",
       "      <td>2019-02-10 23:22:03</td>\n",
       "      <td>23.44</td>\n",
       "      <td>5149245426178</td>\n",
       "      <td>34</td>\n",
       "      <td>Urban</td>\n",
       "    </tr>\n",
       "    <tr>\n",
       "      <th>4</th>\n",
       "      <td>South Jack</td>\n",
       "      <td>2019-03-06 04:28:35</td>\n",
       "      <td>34.58</td>\n",
       "      <td>3908451377344</td>\n",
       "      <td>46</td>\n",
       "      <td>Urban</td>\n",
       "    </tr>\n",
       "  </tbody>\n",
       "</table>\n",
       "</div>"
      ],
      "text/plain": [
       "                 city                 date   fare        ride_id  \\\n",
       "0  Lake Jonathanshire  2019-01-14 10:14:22  13.83  5739410935873   \n",
       "1  South Michelleport  2019-03-04 18:24:09  30.24  2343912425577   \n",
       "2  Port Samanthamouth  2019-02-24 04:29:00  33.44  2005065760003   \n",
       "3          Rodneyfort  2019-02-10 23:22:03  23.44  5149245426178   \n",
       "4          South Jack  2019-03-06 04:28:35  34.58  3908451377344   \n",
       "\n",
       "   driver_count   type  \n",
       "0             5  Urban  \n",
       "1            72  Urban  \n",
       "2            57  Urban  \n",
       "3            34  Urban  \n",
       "4            46  Urban  "
      ]
     },
     "execution_count": 2,
     "metadata": {},
     "output_type": "execute_result"
    }
   ],
   "source": [
    "# Combine the data into a single dataset\n",
    "pyber_data_df = pd.merge(ride_data_df, city_data_df, how=\"left\", on=[\"city\", \"city\"])\n",
    "\n",
    "# Display the data table for preview\n",
    "pyber_data_df.head()"
   ]
  },
  {
   "cell_type": "markdown",
   "metadata": {},
   "source": [
    "## Deliverable 1: Get a Summary DataFrame "
   ]
  },
  {
   "cell_type": "code",
   "execution_count": 3,
   "metadata": {},
   "outputs": [
    {
     "data": {
      "text/plain": [
       "type\n",
       "Rural        125\n",
       "Suburban     625\n",
       "Urban       1625\n",
       "Name: ride_id, dtype: int64"
      ]
     },
     "execution_count": 3,
     "metadata": {},
     "output_type": "execute_result"
    }
   ],
   "source": [
    "#  1. Get the total rides for each city type\n",
    "city_type_ride_count = pyber_data_df.groupby([\"type\"]).count()[\"ride_id\"]\n",
    "city_type_ride_count.head()"
   ]
  },
  {
   "cell_type": "code",
   "execution_count": 4,
   "metadata": {},
   "outputs": [],
   "source": [
    "rural_cities_df = pyber_data_df[pyber_data_df[\"type\"] == \"Rural\"]\n",
    "suburban_cities_df = pyber_data_df[pyber_data_df[\"type\"] == \"Suburban\"]\n",
    "urban_cities_df = pyber_data_df[pyber_data_df[\"type\"] == \"Urban\"]\n",
    "rural_ride_count = rural_cities_df.count()[\"ride_id\"]\n",
    "suburban_ride_count = suburban_cities_df.count()[\"ride_id\"]\n",
    "urban_ride_count = urban_cities_df.count()[\"ride_id\"]"
   ]
  },
  {
   "cell_type": "code",
   "execution_count": 5,
   "metadata": {},
   "outputs": [
    {
     "data": {
      "text/plain": [
       "type\n",
       "Rural         537\n",
       "Suburban     8570\n",
       "Urban       59602\n",
       "Name: driver_count, dtype: int64"
      ]
     },
     "execution_count": 5,
     "metadata": {},
     "output_type": "execute_result"
    }
   ],
   "source": [
    "# 2. Get the total drivers for each city type\n",
    "city_type_driver_total = pyber_data_df.groupby([\"type\"]).sum()[\"driver_count\"]\n",
    "city_type_driver_total.head()"
   ]
  },
  {
   "cell_type": "code",
   "execution_count": 6,
   "metadata": {},
   "outputs": [],
   "source": [
    "rural_driver_count = rural_cities_df.sum()[\"driver_count\"]\n",
    "suburban_driver_count = suburban_cities_df.sum()[\"driver_count\"]\n",
    "urban_driver_count = urban_cities_df.sum()[\"driver_count\"]"
   ]
  },
  {
   "cell_type": "code",
   "execution_count": 7,
   "metadata": {},
   "outputs": [
    {
     "data": {
      "text/plain": [
       "type\n",
       "Rural        4327.93\n",
       "Suburban    19356.33\n",
       "Urban       39854.38\n",
       "Name: fare, dtype: float64"
      ]
     },
     "execution_count": 7,
     "metadata": {},
     "output_type": "execute_result"
    }
   ],
   "source": [
    "#  3. Get the total amount of fares for each city type\n",
    "city_type_fare_total = pyber_data_df.groupby([\"type\"]).sum()[\"fare\"]\n",
    "city_type_fare_total.head()"
   ]
  },
  {
   "cell_type": "code",
   "execution_count": 8,
   "metadata": {},
   "outputs": [],
   "source": [
    "rural_fare_total = rural_cities_df.sum()[\"fare\"]\n",
    "suburban_fare_total = suburban_cities_df.sum()[\"fare\"]\n",
    "urban_fare_total = urban_cities_df.sum()[\"fare\"]"
   ]
  },
  {
   "cell_type": "code",
   "execution_count": 9,
   "metadata": {},
   "outputs": [
    {
     "data": {
      "text/plain": [
       "type\n",
       "Rural       34.623440\n",
       "Suburban    30.970128\n",
       "Urban       24.525772\n",
       "Name: fare, dtype: float64"
      ]
     },
     "execution_count": 9,
     "metadata": {},
     "output_type": "execute_result"
    }
   ],
   "source": [
    "#  4. Get the average fare per ride for each city type. \n",
    "city_type_average_ride_fare = pyber_data_df.groupby([\"type\"]).mean()[\"fare\"]\n",
    "city_type_average_ride_fare.head()"
   ]
  },
  {
   "cell_type": "code",
   "execution_count": 10,
   "metadata": {},
   "outputs": [],
   "source": [
    "rural_average_ride_fare = rural_cities_df.mean()[\"fare\"]\n",
    "suburban_average_ride_fare = suburban_cities_df.mean()[\"fare\"]\n",
    "urban_average_ride_fare = urban_cities_df.mean()[\"fare\"]"
   ]
  },
  {
   "cell_type": "code",
   "execution_count": 11,
   "metadata": {},
   "outputs": [
    {
     "data": {
      "text/plain": [
       "type\n",
       "Rural       8.059460\n",
       "Suburban    2.258615\n",
       "Urban       0.668675\n",
       "dtype: float64"
      ]
     },
     "execution_count": 11,
     "metadata": {},
     "output_type": "execute_result"
    }
   ],
   "source": [
    "# 5. Get the average fare per driver for each city type. \n",
    "city_type_average_driver_fare = city_type_fare_total.div(city_type_driver_total);\n",
    "city_type_average_driver_fare.head()"
   ]
  },
  {
   "cell_type": "code",
   "execution_count": 12,
   "metadata": {},
   "outputs": [],
   "source": [
    "rural_average_driver_fare = (rural_fare_total/rural_driver_count)\n",
    "suburban_average_driver_fare = (suburban_fare_total/suburban_driver_count)\n",
    "urban_average_driver_fare = (urban_fare_total/urban_driver_count)"
   ]
  },
  {
   "cell_type": "code",
   "execution_count": 13,
   "metadata": {},
   "outputs": [
    {
     "data": {
      "text/html": [
       "<div>\n",
       "<style scoped>\n",
       "    .dataframe tbody tr th:only-of-type {\n",
       "        vertical-align: middle;\n",
       "    }\n",
       "\n",
       "    .dataframe tbody tr th {\n",
       "        vertical-align: top;\n",
       "    }\n",
       "\n",
       "    .dataframe thead th {\n",
       "        text-align: right;\n",
       "    }\n",
       "</style>\n",
       "<table border=\"1\" class=\"dataframe\">\n",
       "  <thead>\n",
       "    <tr style=\"text-align: right;\">\n",
       "      <th></th>\n",
       "      <th>Rural Ride Count</th>\n",
       "      <th>Suburban Ride Count</th>\n",
       "      <th>Urban Ride Count</th>\n",
       "      <th>Rural Driver Count</th>\n",
       "      <th>Suburban Driver Count</th>\n",
       "      <th>Urban Driver Count</th>\n",
       "      <th>Rural Fare Total</th>\n",
       "      <th>Suburban Fare Total</th>\n",
       "      <th>Urban Fare Total</th>\n",
       "      <th>Rural Avg. Ride Fare</th>\n",
       "      <th>Suburban Avg. Ride Fare</th>\n",
       "      <th>Urban Avg. Ride Fare</th>\n",
       "      <th>Rural Avg. Driver Fare</th>\n",
       "      <th>Suburban Avg. Driver Fare</th>\n",
       "      <th>Urban Avg. Driver Fare</th>\n",
       "    </tr>\n",
       "  </thead>\n",
       "  <tbody>\n",
       "    <tr>\n",
       "      <th>0</th>\n",
       "      <td>125</td>\n",
       "      <td>625</td>\n",
       "      <td>1625</td>\n",
       "      <td>537</td>\n",
       "      <td>8570</td>\n",
       "      <td>59602</td>\n",
       "      <td>4327.93</td>\n",
       "      <td>19356.33</td>\n",
       "      <td>39854.38</td>\n",
       "      <td>34.62344</td>\n",
       "      <td>30.970128</td>\n",
       "      <td>24.525772</td>\n",
       "      <td>8.05946</td>\n",
       "      <td>2.258615</td>\n",
       "      <td>0.668675</td>\n",
       "    </tr>\n",
       "  </tbody>\n",
       "</table>\n",
       "</div>"
      ],
      "text/plain": [
       "   Rural Ride Count  Suburban Ride Count  Urban Ride Count  \\\n",
       "0               125                  625              1625   \n",
       "\n",
       "   Rural Driver Count  Suburban Driver Count  Urban Driver Count  \\\n",
       "0                 537                   8570               59602   \n",
       "\n",
       "   Rural Fare Total  Suburban Fare Total  Urban Fare Total  \\\n",
       "0           4327.93             19356.33          39854.38   \n",
       "\n",
       "   Rural Avg. Ride Fare  Suburban Avg. Ride Fare  Urban Avg. Ride Fare  \\\n",
       "0              34.62344                30.970128             24.525772   \n",
       "\n",
       "   Rural Avg. Driver Fare  Suburban Avg. Driver Fare  Urban Avg. Driver Fare  \n",
       "0                 8.05946                   2.258615                0.668675  "
      ]
     },
     "execution_count": 13,
     "metadata": {},
     "output_type": "execute_result"
    }
   ],
   "source": [
    "#  6. Create a PyBer summary DataFrame. \n",
    "pyber_summary_df = pd.DataFrame(\n",
    "          [{\"Rural Ride Count\": rural_ride_count, \n",
    "            \"Suburban Ride Count\": suburban_ride_count, \n",
    "            \"Urban Ride Count\": urban_ride_count,\n",
    "            \"Rural Driver Count\": rural_driver_count,\n",
    "            \"Suburban Driver Count\": suburban_driver_count,\n",
    "            \"Urban Driver Count\": urban_driver_count,\n",
    "            \"Rural Fare Total\": rural_fare_total,\n",
    "            \"Suburban Fare Total\": suburban_fare_total,\n",
    "            \"Urban Fare Total\": urban_fare_total,\n",
    "            \"Rural Avg. Ride Fare\": rural_average_ride_fare,\n",
    "            \"Suburban Avg. Ride Fare\": suburban_average_ride_fare,\n",
    "            \"Urban Avg. Ride Fare\": urban_average_ride_fare,\n",
    "            \"Rural Avg. Driver Fare\": rural_average_driver_fare,\n",
    "            \"Suburban Avg. Driver Fare\": suburban_average_driver_fare,\n",
    "            \"Urban Avg. Driver Fare\": urban_average_driver_fare}])\n",
    "pyber_summary_df"
   ]
  },
  {
   "cell_type": "code",
   "execution_count": 14,
   "metadata": {},
   "outputs": [],
   "source": [
    "#  7. Cleaning up the DataFrame. Delete the index name\n",
    "pyber_summary_df.index.name = None"
   ]
  },
  {
   "cell_type": "code",
   "execution_count": 15,
   "metadata": {},
   "outputs": [
    {
     "data": {
      "text/html": [
       "<div>\n",
       "<style scoped>\n",
       "    .dataframe tbody tr th:only-of-type {\n",
       "        vertical-align: middle;\n",
       "    }\n",
       "\n",
       "    .dataframe tbody tr th {\n",
       "        vertical-align: top;\n",
       "    }\n",
       "\n",
       "    .dataframe thead th {\n",
       "        text-align: right;\n",
       "    }\n",
       "</style>\n",
       "<table border=\"1\" class=\"dataframe\">\n",
       "  <thead>\n",
       "    <tr style=\"text-align: right;\">\n",
       "      <th></th>\n",
       "      <th>Rural Ride Count</th>\n",
       "      <th>Suburban Ride Count</th>\n",
       "      <th>Urban Ride Count</th>\n",
       "      <th>Rural Driver Count</th>\n",
       "      <th>Suburban Driver Count</th>\n",
       "      <th>Urban Driver Count</th>\n",
       "      <th>Rural Fare Total</th>\n",
       "      <th>Suburban Fare Total</th>\n",
       "      <th>Urban Fare Total</th>\n",
       "      <th>Rural Avg. Ride Fare</th>\n",
       "      <th>Suburban Avg. Ride Fare</th>\n",
       "      <th>Urban Avg. Ride Fare</th>\n",
       "      <th>Rural Avg. Driver Fare</th>\n",
       "      <th>Suburban Avg. Driver Fare</th>\n",
       "      <th>Urban Avg. Driver Fare</th>\n",
       "    </tr>\n",
       "  </thead>\n",
       "  <tbody>\n",
       "    <tr>\n",
       "      <th>0</th>\n",
       "      <td>125</td>\n",
       "      <td>625</td>\n",
       "      <td>1,625</td>\n",
       "      <td>537</td>\n",
       "      <td>8,570</td>\n",
       "      <td>59,602</td>\n",
       "      <td>$4,327.93</td>\n",
       "      <td>$19,356.33</td>\n",
       "      <td>$39,854.38</td>\n",
       "      <td>$34.62</td>\n",
       "      <td>$30.97</td>\n",
       "      <td>$24.53</td>\n",
       "      <td>$8.06</td>\n",
       "      <td>$2.26</td>\n",
       "      <td>$0.67</td>\n",
       "    </tr>\n",
       "  </tbody>\n",
       "</table>\n",
       "</div>"
      ],
      "text/plain": [
       "   Rural Ride Count  Suburban Ride Count Urban Ride Count  Rural Driver Count  \\\n",
       "0               125                  625            1,625                 537   \n",
       "\n",
       "  Suburban Driver Count Urban Driver Count Rural Fare Total  \\\n",
       "0                 8,570             59,602        $4,327.93   \n",
       "\n",
       "  Suburban Fare Total Urban Fare Total Rural Avg. Ride Fare  \\\n",
       "0          $19,356.33       $39,854.38               $34.62   \n",
       "\n",
       "  Suburban Avg. Ride Fare Urban Avg. Ride Fare Rural Avg. Driver Fare  \\\n",
       "0                  $30.97               $24.53                  $8.06   \n",
       "\n",
       "  Suburban Avg. Driver Fare Urban Avg. Driver Fare  \n",
       "0                     $2.26                  $0.67  "
      ]
     },
     "execution_count": 15,
     "metadata": {},
     "output_type": "execute_result"
    }
   ],
   "source": [
    "#  8. Format the columns.\n",
    "# Format the counts to have the comma for a thousands separator.\n",
    "pyber_summary_df[\"Urban Ride Count\"] = pyber_summary_df[\"Urban Ride Count\"].map(\"{:,}\".format)\n",
    "pyber_summary_df[\"Suburban Driver Count\"] = pyber_summary_df[\"Suburban Driver Count\"].map(\"{:,}\".format)\n",
    "pyber_summary_df[\"Urban Driver Count\"] = pyber_summary_df[\"Urban Driver Count\"].map(\"{:,}\".format)\n",
    "# Format the calulations involving fare to have the comma for a thousands separator, a decimal separator and a \"$\".\n",
    "pyber_summary_df[\"Rural Fare Total\"] = pyber_summary_df[\"Rural Fare Total\"].map(\"${:,.2f}\".format)\n",
    "pyber_summary_df[\"Suburban Fare Total\"] = pyber_summary_df[\"Suburban Fare Total\"].map(\"${:,.2f}\".format)\n",
    "pyber_summary_df[\"Urban Fare Total\"] = pyber_summary_df[\"Urban Fare Total\"].map(\"${:,.2f}\".format)\n",
    "pyber_summary_df[\"Rural Avg. Ride Fare\"] = pyber_summary_df[\"Rural Avg. Ride Fare\"].map(\"${:,.2f}\".format)\n",
    "pyber_summary_df[\"Suburban Avg. Ride Fare\"] = pyber_summary_df[\"Suburban Avg. Ride Fare\"].map(\"${:,.2f}\".format)\n",
    "pyber_summary_df[\"Urban Avg. Ride Fare\"] = pyber_summary_df[\"Urban Avg. Ride Fare\"].map(\"${:,.2f}\".format)\n",
    "pyber_summary_df[\"Rural Avg. Driver Fare\"] = pyber_summary_df[\"Rural Avg. Driver Fare\"].map(\"${:,.2f}\".format)\n",
    "pyber_summary_df[\"Suburban Avg. Driver Fare\"] = pyber_summary_df[\"Suburban Avg. Driver Fare\"].map(\"${:,.2f}\".format)\n",
    "pyber_summary_df[\"Urban Avg. Driver Fare\"] = pyber_summary_df[\"Urban Avg. Driver Fare\"].map(\"${:,.2f}\".format)\n",
    "pyber_summary_df"
   ]
  },
  {
   "cell_type": "markdown",
   "metadata": {},
   "source": [
    "## Deliverable 2.  Create a multiple line plot that shows the total weekly of the fares for each type of city."
   ]
  },
  {
   "cell_type": "code",
   "execution_count": 16,
   "metadata": {},
   "outputs": [
    {
     "data": {
      "text/html": [
       "<div>\n",
       "<style scoped>\n",
       "    .dataframe tbody tr th:only-of-type {\n",
       "        vertical-align: middle;\n",
       "    }\n",
       "\n",
       "    .dataframe tbody tr th {\n",
       "        vertical-align: top;\n",
       "    }\n",
       "\n",
       "    .dataframe thead th {\n",
       "        text-align: right;\n",
       "    }\n",
       "</style>\n",
       "<table border=\"1\" class=\"dataframe\">\n",
       "  <thead>\n",
       "    <tr style=\"text-align: right;\">\n",
       "      <th></th>\n",
       "      <th>city</th>\n",
       "      <th>date</th>\n",
       "      <th>fare</th>\n",
       "      <th>ride_id</th>\n",
       "      <th>driver_count</th>\n",
       "      <th>type</th>\n",
       "    </tr>\n",
       "  </thead>\n",
       "  <tbody>\n",
       "    <tr>\n",
       "      <th>0</th>\n",
       "      <td>Lake Jonathanshire</td>\n",
       "      <td>2019-01-14 10:14:22</td>\n",
       "      <td>13.83</td>\n",
       "      <td>5739410935873</td>\n",
       "      <td>5</td>\n",
       "      <td>Urban</td>\n",
       "    </tr>\n",
       "    <tr>\n",
       "      <th>1</th>\n",
       "      <td>South Michelleport</td>\n",
       "      <td>2019-03-04 18:24:09</td>\n",
       "      <td>30.24</td>\n",
       "      <td>2343912425577</td>\n",
       "      <td>72</td>\n",
       "      <td>Urban</td>\n",
       "    </tr>\n",
       "    <tr>\n",
       "      <th>2</th>\n",
       "      <td>Port Samanthamouth</td>\n",
       "      <td>2019-02-24 04:29:00</td>\n",
       "      <td>33.44</td>\n",
       "      <td>2005065760003</td>\n",
       "      <td>57</td>\n",
       "      <td>Urban</td>\n",
       "    </tr>\n",
       "    <tr>\n",
       "      <th>3</th>\n",
       "      <td>Rodneyfort</td>\n",
       "      <td>2019-02-10 23:22:03</td>\n",
       "      <td>23.44</td>\n",
       "      <td>5149245426178</td>\n",
       "      <td>34</td>\n",
       "      <td>Urban</td>\n",
       "    </tr>\n",
       "    <tr>\n",
       "      <th>4</th>\n",
       "      <td>South Jack</td>\n",
       "      <td>2019-03-06 04:28:35</td>\n",
       "      <td>34.58</td>\n",
       "      <td>3908451377344</td>\n",
       "      <td>46</td>\n",
       "      <td>Urban</td>\n",
       "    </tr>\n",
       "  </tbody>\n",
       "</table>\n",
       "</div>"
      ],
      "text/plain": [
       "                 city                 date   fare        ride_id  \\\n",
       "0  Lake Jonathanshire  2019-01-14 10:14:22  13.83  5739410935873   \n",
       "1  South Michelleport  2019-03-04 18:24:09  30.24  2343912425577   \n",
       "2  Port Samanthamouth  2019-02-24 04:29:00  33.44  2005065760003   \n",
       "3          Rodneyfort  2019-02-10 23:22:03  23.44  5149245426178   \n",
       "4          South Jack  2019-03-06 04:28:35  34.58  3908451377344   \n",
       "\n",
       "   driver_count   type  \n",
       "0             5  Urban  \n",
       "1            72  Urban  \n",
       "2            57  Urban  \n",
       "3            34  Urban  \n",
       "4            46  Urban  "
      ]
     },
     "execution_count": 16,
     "metadata": {},
     "output_type": "execute_result"
    }
   ],
   "source": [
    "# 1. Read the merged DataFrame\n",
    "pyber_data_df.head()"
   ]
  },
  {
   "cell_type": "code",
   "execution_count": 17,
   "metadata": {},
   "outputs": [
    {
     "data": {
      "text/plain": [
       "type   date               \n",
       "Rural  2019-01-01 09:45:36    43.69\n",
       "       2019-01-02 11:18:32    52.12\n",
       "       2019-01-03 19:51:01    19.90\n",
       "       2019-01-04 03:31:26    24.88\n",
       "       2019-01-06 07:38:40    47.33\n",
       "                              ...  \n",
       "Urban  2019-05-08 04:20:00    21.99\n",
       "       2019-05-08 04:39:49    18.45\n",
       "       2019-05-08 07:29:01    18.55\n",
       "       2019-05-08 11:38:35    19.77\n",
       "       2019-05-08 13:10:18    18.04\n",
       "Name: fare, Length: 2375, dtype: float64"
      ]
     },
     "execution_count": 17,
     "metadata": {},
     "output_type": "execute_result"
    }
   ],
   "source": [
    "# 2. Using groupby() to create a new DataFrame showing the sum of the fares \n",
    "#  for each date where the indices are the city type and date.\n",
    "daily_fare_by_city_type = pyber_data_df.groupby([\"type\",\"date\"]).sum()[\"fare\"]\n",
    "daily_fare_by_city_type"
   ]
  },
  {
   "cell_type": "code",
   "execution_count": 18,
   "metadata": {},
   "outputs": [],
   "source": [
    "rural_daily_fare_total = rural_cities_df.groupby([\"date\"]).sum()[\"fare\"]\n",
    "suburban_daily_fare_total = suburban_cities_df.groupby([\"date\"]).sum()[\"fare\"]\n",
    "urban_daily_fare_total = urban_cities_df.groupby([\"date\"]).sum()[\"fare\"]"
   ]
  },
  {
   "cell_type": "code",
   "execution_count": 19,
   "metadata": {},
   "outputs": [],
   "source": [
    "# 3. Reset the index on the DataFrame you created in #1. This is needed to use the 'pivot()' function.\n",
    "reset_df = daily_fare_by_city_type.reset_index()\n",
    "rural_reset_df = rural_daily_fare_total.reset_index()\n",
    "suburban_reset_df = suburban_daily_fare_total.reset_index()\n",
    "urban_reset_df = urban_daily_fare_total.reset_index()"
   ]
  },
  {
   "cell_type": "code",
   "execution_count": 20,
   "metadata": {},
   "outputs": [],
   "source": [
    "reset_df = reset_df.astype({\"date\":\"datetime64\"})"
   ]
  },
  {
   "cell_type": "code",
   "execution_count": 21,
   "metadata": {},
   "outputs": [],
   "source": [
    "reset_df['normalized_date'] = reset_df['date'].dt.normalize()"
   ]
  },
  {
   "cell_type": "code",
   "execution_count": 22,
   "metadata": {},
   "outputs": [
    {
     "data": {
      "text/html": [
       "<div>\n",
       "<style scoped>\n",
       "    .dataframe tbody tr th:only-of-type {\n",
       "        vertical-align: middle;\n",
       "    }\n",
       "\n",
       "    .dataframe tbody tr th {\n",
       "        vertical-align: top;\n",
       "    }\n",
       "\n",
       "    .dataframe thead th {\n",
       "        text-align: right;\n",
       "    }\n",
       "</style>\n",
       "<table border=\"1\" class=\"dataframe\">\n",
       "  <thead>\n",
       "    <tr style=\"text-align: right;\">\n",
       "      <th>type</th>\n",
       "      <th>Rural</th>\n",
       "      <th>Suburban</th>\n",
       "      <th>Urban</th>\n",
       "    </tr>\n",
       "    <tr>\n",
       "      <th>normalized_date</th>\n",
       "      <th></th>\n",
       "      <th></th>\n",
       "      <th></th>\n",
       "    </tr>\n",
       "  </thead>\n",
       "  <tbody>\n",
       "    <tr>\n",
       "      <th>2019-01-01</th>\n",
       "      <td>43.69</td>\n",
       "      <td>128.52</td>\n",
       "      <td>127.78</td>\n",
       "    </tr>\n",
       "    <tr>\n",
       "      <th>2019-01-02</th>\n",
       "      <td>52.12</td>\n",
       "      <td>274.92</td>\n",
       "      <td>305.99</td>\n",
       "    </tr>\n",
       "    <tr>\n",
       "      <th>2019-01-03</th>\n",
       "      <td>19.90</td>\n",
       "      <td>133.48</td>\n",
       "      <td>260.48</td>\n",
       "    </tr>\n",
       "    <tr>\n",
       "      <th>2019-01-04</th>\n",
       "      <td>24.88</td>\n",
       "      <td>20.69</td>\n",
       "      <td>258.14</td>\n",
       "    </tr>\n",
       "    <tr>\n",
       "      <th>2019-01-05</th>\n",
       "      <td>0.00</td>\n",
       "      <td>101.36</td>\n",
       "      <td>506.89</td>\n",
       "    </tr>\n",
       "    <tr>\n",
       "      <th>...</th>\n",
       "      <td>...</td>\n",
       "      <td>...</td>\n",
       "      <td>...</td>\n",
       "    </tr>\n",
       "    <tr>\n",
       "      <th>2019-05-04</th>\n",
       "      <td>0.00</td>\n",
       "      <td>91.71</td>\n",
       "      <td>323.57</td>\n",
       "    </tr>\n",
       "    <tr>\n",
       "      <th>2019-05-05</th>\n",
       "      <td>26.53</td>\n",
       "      <td>154.78</td>\n",
       "      <td>322.10</td>\n",
       "    </tr>\n",
       "    <tr>\n",
       "      <th>2019-05-06</th>\n",
       "      <td>111.88</td>\n",
       "      <td>34.12</td>\n",
       "      <td>181.20</td>\n",
       "    </tr>\n",
       "    <tr>\n",
       "      <th>2019-05-07</th>\n",
       "      <td>44.94</td>\n",
       "      <td>274.09</td>\n",
       "      <td>258.01</td>\n",
       "    </tr>\n",
       "    <tr>\n",
       "      <th>2019-05-08</th>\n",
       "      <td>0.00</td>\n",
       "      <td>0.00</td>\n",
       "      <td>170.82</td>\n",
       "    </tr>\n",
       "  </tbody>\n",
       "</table>\n",
       "<p>128 rows × 3 columns</p>\n",
       "</div>"
      ],
      "text/plain": [
       "type              Rural  Suburban   Urban\n",
       "normalized_date                          \n",
       "2019-01-01        43.69    128.52  127.78\n",
       "2019-01-02        52.12    274.92  305.99\n",
       "2019-01-03        19.90    133.48  260.48\n",
       "2019-01-04        24.88     20.69  258.14\n",
       "2019-01-05         0.00    101.36  506.89\n",
       "...                 ...       ...     ...\n",
       "2019-05-04         0.00     91.71  323.57\n",
       "2019-05-05        26.53    154.78  322.10\n",
       "2019-05-06       111.88     34.12  181.20\n",
       "2019-05-07        44.94    274.09  258.01\n",
       "2019-05-08         0.00      0.00  170.82\n",
       "\n",
       "[128 rows x 3 columns]"
      ]
     },
     "execution_count": 22,
     "metadata": {},
     "output_type": "execute_result"
    }
   ],
   "source": [
    "# 4. Create a pivot table with the 'date' as the index, the columns ='type', and values='fare' \n",
    "# to get the total fares for each type of city by the date. \n",
    "pivot_df = pd.pivot_table(reset_df, index=\"normalized_date\", columns=\"type\", values=\"fare\", aggfunc=np.sum, fill_value=0)\n",
    "pivot_df"
   ]
  },
  {
   "cell_type": "code",
   "execution_count": 32,
   "metadata": {},
   "outputs": [
    {
     "data": {
      "text/html": [
       "<div>\n",
       "<style scoped>\n",
       "    .dataframe tbody tr th:only-of-type {\n",
       "        vertical-align: middle;\n",
       "    }\n",
       "\n",
       "    .dataframe tbody tr th {\n",
       "        vertical-align: top;\n",
       "    }\n",
       "\n",
       "    .dataframe thead th {\n",
       "        text-align: right;\n",
       "    }\n",
       "</style>\n",
       "<table border=\"1\" class=\"dataframe\">\n",
       "  <thead>\n",
       "    <tr style=\"text-align: right;\">\n",
       "      <th>type</th>\n",
       "      <th>Rural</th>\n",
       "      <th>Suburban</th>\n",
       "      <th>Urban</th>\n",
       "    </tr>\n",
       "    <tr>\n",
       "      <th>normalized_date</th>\n",
       "      <th></th>\n",
       "      <th></th>\n",
       "      <th></th>\n",
       "    </tr>\n",
       "  </thead>\n",
       "  <tbody>\n",
       "    <tr>\n",
       "      <th>2019-01-01</th>\n",
       "      <td>43.69</td>\n",
       "      <td>128.52</td>\n",
       "      <td>127.78</td>\n",
       "    </tr>\n",
       "    <tr>\n",
       "      <th>2019-01-02</th>\n",
       "      <td>52.12</td>\n",
       "      <td>274.92</td>\n",
       "      <td>305.99</td>\n",
       "    </tr>\n",
       "    <tr>\n",
       "      <th>2019-01-03</th>\n",
       "      <td>19.90</td>\n",
       "      <td>133.48</td>\n",
       "      <td>260.48</td>\n",
       "    </tr>\n",
       "    <tr>\n",
       "      <th>2019-01-04</th>\n",
       "      <td>24.88</td>\n",
       "      <td>20.69</td>\n",
       "      <td>258.14</td>\n",
       "    </tr>\n",
       "    <tr>\n",
       "      <th>2019-01-05</th>\n",
       "      <td>0.00</td>\n",
       "      <td>101.36</td>\n",
       "      <td>506.89</td>\n",
       "    </tr>\n",
       "    <tr>\n",
       "      <th>...</th>\n",
       "      <td>...</td>\n",
       "      <td>...</td>\n",
       "      <td>...</td>\n",
       "    </tr>\n",
       "    <tr>\n",
       "      <th>2019-04-25</th>\n",
       "      <td>55.84</td>\n",
       "      <td>155.98</td>\n",
       "      <td>419.81</td>\n",
       "    </tr>\n",
       "    <tr>\n",
       "      <th>2019-04-26</th>\n",
       "      <td>0.00</td>\n",
       "      <td>132.45</td>\n",
       "      <td>330.98</td>\n",
       "    </tr>\n",
       "    <tr>\n",
       "      <th>2019-04-27</th>\n",
       "      <td>52.34</td>\n",
       "      <td>268.25</td>\n",
       "      <td>367.30</td>\n",
       "    </tr>\n",
       "    <tr>\n",
       "      <th>2019-04-28</th>\n",
       "      <td>0.00</td>\n",
       "      <td>188.71</td>\n",
       "      <td>328.78</td>\n",
       "    </tr>\n",
       "    <tr>\n",
       "      <th>2019-04-29</th>\n",
       "      <td>67.60</td>\n",
       "      <td>167.92</td>\n",
       "      <td>342.63</td>\n",
       "    </tr>\n",
       "  </tbody>\n",
       "</table>\n",
       "<p>119 rows × 3 columns</p>\n",
       "</div>"
      ],
      "text/plain": [
       "type             Rural  Suburban   Urban\n",
       "normalized_date                         \n",
       "2019-01-01       43.69    128.52  127.78\n",
       "2019-01-02       52.12    274.92  305.99\n",
       "2019-01-03       19.90    133.48  260.48\n",
       "2019-01-04       24.88     20.69  258.14\n",
       "2019-01-05        0.00    101.36  506.89\n",
       "...                ...       ...     ...\n",
       "2019-04-25       55.84    155.98  419.81\n",
       "2019-04-26        0.00    132.45  330.98\n",
       "2019-04-27       52.34    268.25  367.30\n",
       "2019-04-28        0.00    188.71  328.78\n",
       "2019-04-29       67.60    167.92  342.63\n",
       "\n",
       "[119 rows x 3 columns]"
      ]
     },
     "execution_count": 32,
     "metadata": {},
     "output_type": "execute_result"
    }
   ],
   "source": [
    "# 5. Create a new DataFrame from the pivot table DataFrame using loc on the given dates, '2019-01-01':'2019-04-29'.\n",
    "specific_date= pivot_df.loc[\"2019-01-01\" : \"2019-04-29\"]\n",
    "specific_date"
   ]
  },
  {
   "cell_type": "code",
   "execution_count": 33,
   "metadata": {},
   "outputs": [],
   "source": [
    "# 6. Set the \"date\" index to datetime datatype. This is necessary to use the resample() method in Step 8.\n",
    "specific_date.index = pd.to_datetime(specific_date.index)"
   ]
  },
  {
   "cell_type": "code",
   "execution_count": 34,
   "metadata": {},
   "outputs": [
    {
     "name": "stdout",
     "output_type": "stream",
     "text": [
      "<class 'pandas.core.frame.DataFrame'>\n",
      "DatetimeIndex: 119 entries, 2019-01-01 to 2019-04-29\n",
      "Data columns (total 3 columns):\n",
      " #   Column    Non-Null Count  Dtype  \n",
      "---  ------    --------------  -----  \n",
      " 0   Rural     119 non-null    float64\n",
      " 1   Suburban  119 non-null    float64\n",
      " 2   Urban     119 non-null    float64\n",
      "dtypes: float64(3)\n",
      "memory usage: 3.7 KB\n"
     ]
    }
   ],
   "source": [
    "# 7. Check that the datatype for the index is datetime using df.info()\n",
    "specific_date.info()"
   ]
  },
  {
   "cell_type": "code",
   "execution_count": 36,
   "metadata": {},
   "outputs": [],
   "source": [
    "# 8. Create a new DataFrame using the \"resample()\" function by week 'W' and get the sum of the fares for each week.\n",
    "resample_df= specific_date.resample('W', level=0).sum()"
   ]
  },
  {
   "cell_type": "code",
   "execution_count": 38,
   "metadata": {},
   "outputs": [
    {
     "data": {
      "image/png": "[encoded data removed]",
      "text/plain": [
       "<Figure size 432x288 with 1 Axes>"
      ]
     },
     "metadata": {
      "needs_background": "light"
     },
     "output_type": "display_data"
    }
   ],
   "source": [
    "# 9. Using the object-oriented interface method, plot the resample DataFrame using the df.plot() function. \n",
    "lines = resample_df.plot.line()\n",
    "# Import the style from Matplotlib.\n",
    "from matplotlib import style\n",
    "# Use the graph style fivethirtyeight.\n",
    "style.use('fivethirtyeight')"
   ]
  }
 ],
 "metadata": {
  "anaconda-cloud": {},
  "interpreter": {
   "hash": "2fe38ab2ca7073edbe237e6e767c6a0f54376e8376b8a7896314b12fda05e918"
  },
  "kernelspec": {
   "display_name": "Python 3",
   "language": "python",
   "name": "python3"
  },
  "language_info": {
   "codemirror_mode": {
    "name": "ipython",
    "version": 3
   },
   "file_extension": ".py",
   "mimetype": "text/x-python",
   "name": "python",
   "nbconvert_exporter": "python",
   "pygments_lexer": "ipython3",
   "version": "3.7.10"
  }
 },
 "nbformat": 4,
 "nbformat_minor": 4
}
